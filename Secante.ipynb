{
  "nbformat": 4,
  "nbformat_minor": 0,
  "metadata": {
    "colab": {
      "provenance": [],
      "authorship_tag": "ABX9TyPG48Os+3RxzlYPHzyo8IpN",
      "include_colab_link": true
    },
    "kernelspec": {
      "name": "python3",
      "display_name": "Python 3"
    },
    "language_info": {
      "name": "python"
    }
  },
  "cells": [
    {
      "cell_type": "markdown",
      "metadata": {
        "id": "view-in-github",
        "colab_type": "text"
      },
      "source": [
        "<a href=\"https://colab.research.google.com/github/Elay-math/Metodos-Numericos-/blob/main/Secante.ipynb\" target=\"_parent\"><img src=\"https://colab.research.google.com/assets/colab-badge.svg\" alt=\"Open In Colab\"/></a>"
      ]
    },
    {
      "cell_type": "markdown",
      "source": [
        "Método de la secante"
      ],
      "metadata": {
        "id": "_WHHZzUJuGe_"
      }
    },
    {
      "cell_type": "code",
      "execution_count": 2,
      "metadata": {
        "id": "ULT7yuxhuFw7"
      },
      "outputs": [],
      "source": [
        "import math\n",
        "from tabulate import tabulate\n",
        "def f(x):\n",
        "  return math.cos(x)"
      ]
    },
    {
      "cell_type": "code",
      "source": [
        "def secante(p0,p1,tol=1e-5,N=1000):\n",
        "  table=[]\n",
        "  i=0\n",
        "  q0=f(p0)\n",
        "  q1=f(p1)\n",
        "  table.append([i,p0])\n",
        "  while i<N:\n",
        "    p=p1-q1*(p1-p0)/(q1-q0)\n",
        "    table.append([i+1,p])\n",
        "    if abs(p-p1)<tol:\n",
        "      print(tabulate(table, headers=[\"i\", \"Aproximación\"], tablefmt=\"grid\"))\n",
        "      return p\n",
        "    i+=1\n",
        "    q0=q1\n",
        "    p0=p1\n",
        "    p1=p\n",
        "    q1=f(p)\n",
        "  print(\"Advertencia: no se alcanzó la tolerancia en el número máximo de iteraciones.\")\n",
        "  print(tabulate(table, headers=[\"Iteración\", \"Aproximación\"], tablefmt=\"grid\"))\n",
        "  return p"
      ],
      "metadata": {
        "id": "Q9YN6W9vvI8n"
      },
      "execution_count": 11,
      "outputs": []
    },
    {
      "cell_type": "code",
      "source": [
        "resultado=secante(0.5,math.pi/4)\n",
        "print(\"La aproximación de la raíz es:\", resultado)"
      ],
      "metadata": {
        "colab": {
          "base_uri": "https://localhost:8080/"
        },
        "id": "EQHzMBL5xA-X",
        "outputId": "f709875a-f3bb-4d86-ccb6-ede2c903bec7"
      },
      "execution_count": 14,
      "outputs": [
        {
          "output_type": "stream",
          "name": "stdout",
          "text": [
            "+-----+----------------+\n",
            "|   i |   Aproximación |\n",
            "+=====+================+\n",
            "|   0 |        0.5     |\n",
            "+-----+----------------+\n",
            "|   1 |        1.96918 |\n",
            "+-----+----------------+\n",
            "|   2 |        1.54981 |\n",
            "+-----+----------------+\n",
            "|   3 |        1.57133 |\n",
            "+-----+----------------+\n",
            "|   4 |        1.5708  |\n",
            "+-----+----------------+\n",
            "|   5 |        1.5708  |\n",
            "+-----+----------------+\n",
            "|   6 |        1.5708  |\n",
            "+-----+----------------+\n",
            "La aproximación de la raíz es: 1.5707963267948966\n"
          ]
        }
      ]
    }
  ]
}