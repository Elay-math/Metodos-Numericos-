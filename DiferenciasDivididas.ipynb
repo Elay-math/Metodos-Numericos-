{
  "nbformat": 4,
  "nbformat_minor": 0,
  "metadata": {
    "colab": {
      "provenance": [],
      "authorship_tag": "ABX9TyOkDSLb62Oi0wGipoQ4OqEt",
      "include_colab_link": true
    },
    "kernelspec": {
      "name": "python3",
      "display_name": "Python 3"
    },
    "language_info": {
      "name": "python"
    }
  },
  "cells": [
    {
      "cell_type": "markdown",
      "metadata": {
        "id": "view-in-github",
        "colab_type": "text"
      },
      "source": [
        "<a href=\"https://colab.research.google.com/github/Elay-math/Metodos-Numericos-/blob/main/DiferenciasDivididas.ipynb\" target=\"_parent\"><img src=\"https://colab.research.google.com/assets/colab-badge.svg\" alt=\"Open In Colab\"/></a>"
      ]
    },
    {
      "cell_type": "markdown",
      "source": [
        "Diferencias dividas de Newton"
      ],
      "metadata": {
        "id": "pGcmaVcQXCPF"
      }
    },
    {
      "cell_type": "code",
      "execution_count": 2,
      "metadata": {
        "colab": {
          "base_uri": "https://localhost:8080/"
        },
        "id": "nI0Qb0ZnW3pm",
        "outputId": "bb122897-982a-4d0b-ee58-76db4f2940f4"
      },
      "outputs": [
        {
          "output_type": "stream",
          "name": "stdout",
          "text": [
            "+----------+-----------+------------+-----------+-----------+\n",
            "| 0.765198 |  0        |  0         | 0         | 0         |\n",
            "+----------+-----------+------------+-----------+-----------+\n",
            "| 0.620086 | -0.483706 |  0         | 0         | 0         |\n",
            "+----------+-----------+------------+-----------+-----------+\n",
            "| 0.455402 | -0.548946 | -0.108734  | 0         | 0         |\n",
            "+----------+-----------+------------+-----------+-----------+\n",
            "| 0.281819 | -0.578612 | -0.0494433 | 0.0658784 | 0         |\n",
            "+----------+-----------+------------+-----------+-----------+\n",
            "| 0.110362 | -0.571521 |  0.0118183 | 0.0680685 | 0.0018251 |\n",
            "+----------+-----------+------------+-----------+-----------+\n",
            "\n",
            "Coeficientes del polinomio de Newton (forma con diferencias divididas):\n",
            "tabla[0,0] = 0.7651977\n",
            "tabla[1,1] = -0.4837056666666664\n",
            "tabla[2,2] = -0.10873388888888935\n",
            "tabla[3,3] = 0.06587839506172834\n",
            "tabla[4,4] = 0.0018251028806604353\n",
            "\n",
            "Lista de coeficientes:\n",
            "[0.7651977, -0.4837056666666664, -0.10873388888888935, 0.06587839506172834, 0.0018251028806604353]\n"
          ]
        }
      ],
      "source": [
        "from tabulate import tabulate\n",
        "\n",
        "def newton_dif_divididas(puntos_x, valores_y):\n",
        "    tam = len(puntos_x)\n",
        "\n",
        "    # Creamos la tabla de diferencias divididas\n",
        "    tabla = [[0.0 for _ in range(tam)] for _ in range(tam)]\n",
        "\n",
        "    # Primera columna: valores conocidos de la función\n",
        "    for fila in range(tam):\n",
        "        tabla[fila][0] = valores_y[fila]\n",
        "\n",
        "    # Llenamos la tabla con las diferencias divididas\n",
        "    for i in range(1, tam):\n",
        "        for j in range(1, i + 1):\n",
        "            x_i = puntos_x[i]\n",
        "            x_ij = puntos_x[i - j]\n",
        "            numerador = tabla[i][j - 1] - tabla[i - 1][j - 1]\n",
        "            denominador = x_i - x_ij\n",
        "            tabla[i][j] = numerador / denominador\n",
        "\n",
        "    # Imprimimos la tabla completa\n",
        "    print(tabulate(tabla, tablefmt=\"grid\"))\n",
        "\n",
        "    # Extraemos los coeficientes del polinomio (diagonal de la tabla)\n",
        "    coeficientes = [tabla[i][i] for i in range(tam)]\n",
        "\n",
        "    print(\"\\nCoeficientes del polinomio de Newton (forma con diferencias divididas):\")\n",
        "    for i, coef in enumerate(coeficientes):\n",
        "        print(f\"tabla[{i},{i}] = {coef}\")\n",
        "\n",
        "    return coeficientes\n",
        "\n",
        "# Datos de prueba\n",
        "x_datos = [1, 1.3, 1.6, 1.9, 2.2]\n",
        "y_datos = [0.7651977, 0.6200860, 0.4554022, 0.2818186, 0.1103623]\n",
        "\n",
        "coef_pol = newton_dif_divididas(x_datos, y_datos)\n",
        "print(\"\\nLista de coeficientes:\")\n",
        "print(coef_pol)"
      ]
    }
  ]
}