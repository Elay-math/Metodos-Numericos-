{
  "nbformat": 4,
  "nbformat_minor": 0,
  "metadata": {
    "colab": {
      "provenance": [],
      "authorship_tag": "ABX9TyMzPVo6LUuClyatOKfHSkQQ",
      "include_colab_link": true
    },
    "kernelspec": {
      "name": "python3",
      "display_name": "Python 3"
    },
    "language_info": {
      "name": "python"
    }
  },
  "cells": [
    {
      "cell_type": "markdown",
      "metadata": {
        "id": "view-in-github",
        "colab_type": "text"
      },
      "source": [
        "<a href=\"https://colab.research.google.com/github/Elay-math/Metodos-Numericos-/blob/main/IntegracionNumerica.ipynb\" target=\"_parent\"><img src=\"https://colab.research.google.com/assets/colab-badge.svg\" alt=\"Open In Colab\"/></a>"
      ]
    },
    {
      "cell_type": "markdown",
      "source": [
        "Regla trapezoidal"
      ],
      "metadata": {
        "id": "XwYYQWZUKfvO"
      }
    },
    {
      "cell_type": "code",
      "execution_count": 2,
      "metadata": {
        "colab": {
          "base_uri": "https://localhost:8080/",
          "height": 39
        },
        "id": "H640lKYLGTZa",
        "outputId": "c546d776-0cd8-413c-a2aa-51ecd6f28084"
      },
      "outputs": [
        {
          "output_type": "execute_result",
          "data": {
            "text/plain": [
              "0.0883883476483184*pi"
            ],
            "text/latex": "$\\displaystyle 0.0883883476483184 \\pi$"
          },
          "metadata": {},
          "execution_count": 2
        }
      ],
      "source": [
        "import sympy as sp\n",
        "x=sp.symbols('x')\n",
        "f=sp.sin(x)\n",
        "#Se define la fuincion de la regla del trapecio\n",
        "def trap(f,a,b,):\n",
        "  h=(b-a)\n",
        "  return (h/2)*(f.subs(x,a)+f.subs(x,b)).evalf()\n",
        "trap(f,0,sp.pi/4)"
      ]
    },
    {
      "cell_type": "markdown",
      "source": [
        "Regla de simpson"
      ],
      "metadata": {
        "id": "G-ciBEtVzA28"
      }
    },
    {
      "cell_type": "code",
      "source": [
        "#Se define la funcion para la regla de Simpson\n",
        "def simpson(f,a,b):\n",
        "  h=(b-a)/2\n",
        "  return (h/3)*(f.subs(x,a)+4*f.subs(x,a+h)+f.subs(x,b)).evalf()\n",
        "simpson(f,0,sp.pi/4)\n"
      ],
      "metadata": {
        "colab": {
          "base_uri": "https://localhost:8080/",
          "height": 38
        },
        "id": "7cmsdpwyPz6V",
        "outputId": "d0684edb-f0c7-4e9c-935b-48f32f4e4c2a"
      },
      "execution_count": null,
      "outputs": [
        {
          "output_type": "execute_result",
          "data": {
            "text/plain": [
              "0.0932433546102878*pi"
            ],
            "text/latex": "$\\displaystyle 0.0932433546102878 \\pi$"
          },
          "metadata": {},
          "execution_count": 24
        }
      ]
    },
    {
      "cell_type": "markdown",
      "source": [
        "Regla de tres octavos"
      ],
      "metadata": {
        "id": "sIWNUCK5zDIb"
      }
    },
    {
      "cell_type": "code",
      "source": [
        "#Se define la regla de tres octavos de Simpson\n",
        "def simpson38(f,a,b):\n",
        "  h=(b-a)/3\n",
        "  return (3*h/8)*(f.subs(x,a)+3*f.subs(x,a+h)+3*f.subs(x,a+2*h)+f.subs(x,b)).evalf()\n",
        "simpson38(f,0,sp.pi/4)"
      ],
      "metadata": {
        "colab": {
          "base_uri": "https://localhost:8080/",
          "height": 38
        },
        "id": "7Aerm1jBTmje",
        "outputId": "799ef05f-c9b6-4e71-dc7b-145698383df9"
      },
      "execution_count": null,
      "outputs": [
        {
          "output_type": "execute_result",
          "data": {
            "text/plain": [
              "0.0932363723904409*pi"
            ],
            "text/latex": "$\\displaystyle 0.0932363723904409 \\pi$"
          },
          "metadata": {},
          "execution_count": 25
        }
      ]
    },
    {
      "cell_type": "code",
      "source": [
        "#Se define la regla para n=4\n",
        "def simpson13(f,a,b):\n",
        "  h=(b-a)/4\n",
        "  return (2*h/45)*(7*f.subs(x,a)+32*f.subs(x,a+h)+12*f.subs(x,a+2*h)+32*f.subs(x,a+3*h)+7*f.subs(x,b)).evalf()\n",
        "simpson13(f,0,sp.pi/4)"
      ],
      "metadata": {
        "colab": {
          "base_uri": "https://localhost:8080/",
          "height": 39
        },
        "id": "L8-sSQbDvEqZ",
        "outputId": "d2473f16-38dd-47fc-e246-772ea3d1558e"
      },
      "execution_count": 3,
      "outputs": [
        {
          "output_type": "execute_result",
          "data": {
            "text/plain": [
              "0.0932307956050841*pi"
            ],
            "text/latex": "$\\displaystyle 0.0932307956050841 \\pi$"
          },
          "metadata": {},
          "execution_count": 3
        }
      ]
    },
    {
      "cell_type": "markdown",
      "source": [
        "Formulas abiertas"
      ],
      "metadata": {
        "id": "bXi1uVpywh8-"
      }
    },
    {
      "cell_type": "code",
      "source": [
        "#n=0\n",
        "def open0(f,a,b):\n",
        "  h=(b-a)\n",
        "  return 2*h*(f.subs(x,b)).evalf()\n",
        "open0(f,0,sp.pi/4)\n",
        "\n"
      ],
      "metadata": {
        "colab": {
          "base_uri": "https://localhost:8080/",
          "height": 39
        },
        "id": "pK-zKquPwhd_",
        "outputId": "24af0578-bb36-4add-e1f4-590bf5ebc920"
      },
      "execution_count": 15,
      "outputs": [
        {
          "output_type": "execute_result",
          "data": {
            "text/plain": [
              "0.353553390593274*pi"
            ],
            "text/latex": "$\\displaystyle 0.353553390593274 \\pi$"
          },
          "metadata": {},
          "execution_count": 15
        }
      ]
    },
    {
      "cell_type": "code",
      "source": [
        "#n=1\n",
        "def open1(f,a,b):\n",
        "  h=(b-a)\n",
        "  return (3*h/2)*(f.subs(x,a)+f.subs(x,b)).evalf()\n",
        "open1(f,0,sp.pi/4)"
      ],
      "metadata": {
        "colab": {
          "base_uri": "https://localhost:8080/",
          "height": 39
        },
        "id": "a1XmCFaqyHeK",
        "outputId": "2c96ed06-e60b-4673-d75e-616a88192217"
      },
      "execution_count": 8,
      "outputs": [
        {
          "output_type": "execute_result",
          "data": {
            "text/plain": [
              "0.265165042944955*pi"
            ],
            "text/latex": "$\\displaystyle 0.265165042944955 \\pi$"
          },
          "metadata": {},
          "execution_count": 8
        }
      ]
    },
    {
      "cell_type": "code",
      "source": [
        "#n=2\n",
        "def open2(f,a,b):\n",
        "  h=(b-a)/3\n",
        "  return (4*h/3)*(2*f.subs(x,a)-f.subs(x,a+h)+2*f.subs(x,b)).evalf()\n",
        "open2(f,0,sp.pi/4)"
      ],
      "metadata": {
        "colab": {
          "base_uri": "https://localhost:8080/",
          "height": 39
        },
        "id": "oR4s_VVfyLG2",
        "outputId": "645324db-8539-4501-f0c0-ca03a299e612"
      },
      "execution_count": 9,
      "outputs": [
        {
          "output_type": "execute_result",
          "data": {
            "text/plain": [
              "0.128377168585619*pi"
            ],
            "text/latex": "$\\displaystyle 0.128377168585619 \\pi$"
          },
          "metadata": {},
          "execution_count": 9
        }
      ]
    },
    {
      "cell_type": "code",
      "source": [
        "#n=3\n",
        "def open3(f,a,b):\n",
        "  h=(b-a)/4\n",
        "  return (5*h/24)*(11*f.subs(x,a)+f.subs(x,a+h)+f.subs(x,a+2*h)+11*f.subs(x,b)).evalf()\n",
        "open3(f,0,sp.pi/4)"
      ],
      "metadata": {
        "colab": {
          "base_uri": "https://localhost:8080/",
          "height": 39
        },
        "id": "br9gJDhDyUBX",
        "outputId": "bf2122b7-9f00-4ded-a872-b59e8a7cdc4c"
      },
      "execution_count": 11,
      "outputs": [
        {
          "output_type": "execute_result",
          "data": {
            "text/plain": [
              "0.10880141077387*pi"
            ],
            "text/latex": "$\\displaystyle 0.10880141077387 \\pi$"
          },
          "metadata": {},
          "execution_count": 11
        }
      ]
    }
  ]
}