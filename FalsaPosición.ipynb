{
  "nbformat": 4,
  "nbformat_minor": 0,
  "metadata": {
    "colab": {
      "provenance": [],
      "authorship_tag": "ABX9TyMhl+Gw7JgQjxOvS4/JAP7A",
      "include_colab_link": true
    },
    "kernelspec": {
      "name": "python3",
      "display_name": "Python 3"
    },
    "language_info": {
      "name": "python"
    }
  },
  "cells": [
    {
      "cell_type": "markdown",
      "metadata": {
        "id": "view-in-github",
        "colab_type": "text"
      },
      "source": [
        "<a href=\"https://colab.research.google.com/github/Elay-math/Metodos-Numericos-/blob/main/FalsaPosici%C3%B3n.ipynb\" target=\"_parent\"><img src=\"https://colab.research.google.com/assets/colab-badge.svg\" alt=\"Open In Colab\"/></a>"
      ]
    },
    {
      "cell_type": "markdown",
      "source": [
        "Algoritmo de la falsa posición"
      ],
      "metadata": {
        "id": "sX3yJbxP5Ghc"
      }
    },
    {
      "cell_type": "markdown",
      "source": [
        "Este algoritmo se basa en la idea de crear una linea secante en ambos extremos del intervalo, eso nos da una aproximación a la raíz de la función, mientras más se itere más cerca se estará de la raíz, esta es una mejor forma de alcanzar la raíz dentro de un error dado, pues se requiere un menor número de iteraciones que en el método de bisección"
      ],
      "metadata": {
        "id": "5e_h0w6rsIGu"
      }
    },
    {
      "cell_type": "code",
      "execution_count": 1,
      "metadata": {
        "id": "1TzDBL675FhZ"
      },
      "outputs": [],
      "source": [
        "from tabulate import tabulate\n",
        "import math\n",
        "#definimos una función\n",
        "def f(x):\n",
        "  return 2*x*math.cos(2*x)-(x+1)**2"
      ]
    },
    {
      "cell_type": "code",
      "source": [
        "#usaremos una función para el algoritmo\n",
        "def FP(a,b,tol=1e-4,max=1000):\n",
        "  table=[]\n",
        "  i=0\n",
        "  #definimos los el error y la formula  en una iteracion anterior\n",
        "  line_ianterior= None\n",
        "  error= None\n",
        "  #el algoritmo funciona mientras no se sobrepase el máximo número de iteraciones\n",
        "  while i<max:\n",
        "    #se define la formula de la falsa posición\n",
        "    line= b-((b-a)*f(b))/(f(b)-f(a))\n",
        "\n",
        "    if line_ianterior is not None:\n",
        "      #se define el error\n",
        "\n",
        "      error=abs(line-line_ianterior)\n",
        "      #se agrega a la tabla\n",
        "\n",
        "    table.append([i,a,b,line,f(a)*f(line),error])\n",
        "    #si la evaluación de la función es menor que el error deseado se procede\n",
        "\n",
        "    if abs(f(line))<tol:\n",
        "      print(tabulate(table, headers=[\"Iteración\", \"a\", \"b\", \"Raíz Aproximada\", \"f(Raíz)\", \"Error\"], tablefmt=\"grid\"))\n",
        "      return line\n",
        "\n",
        "    if f(a)*f(line)<0:\n",
        "      #la raíz se encuentra en el intervalo [a, line]\n",
        "      b=line\n",
        "    else:\n",
        "      #la raiz se encuentra en el intevalo [line, b]\n",
        "      a=line\n",
        "      #se ajusta la formula\n",
        "    line_ianterior=line\n",
        "    i+=1\n",
        "\n",
        "root=FP(0,1)\n",
        "print(\"La raíz aproximada es:\",root)\n"
      ],
      "metadata": {
        "colab": {
          "base_uri": "https://localhost:8080/"
        },
        "id": "cJuoekoJcB_X",
        "outputId": "ca0b3303-bfc8-4eff-a1d8-59e417cb38fe"
      },
      "execution_count": 4,
      "outputs": [
        {
          "output_type": "stream",
          "name": "stdout",
          "text": [
            "+-------------+-----------+-----------+-------------------+--------------+-------------+\n",
            "|   Iteración |         a |         b |   Raíz Aproximada |      f(Raíz) |       Error |\n",
            "+=============+===========+===========+===================+==============+=============+\n",
            "|           0 |  0        |  1        |         -0.26094  |  0.998619    |             |\n",
            "+-------------+-----------+-----------+-------------------+--------------+-------------+\n",
            "|           1 | -0.26094  |  1        |         -0.589398 |  0.618084    | 0.328457    |\n",
            "+-------------+-----------+-----------+-------------------+--------------+-------------+\n",
            "|           2 | -0.589398 |  1        |         -0.822879 | -0.0568697   | 0.233482    |\n",
            "+-------------+-----------+-----------+-------------------+--------------+-------------+\n",
            "|           3 | -0.589398 | -0.822879 |         -0.792699 |  0.0122707   | 0.0301804   |\n",
            "+-------------+-----------+-----------+-------------------+--------------+-------------+\n",
            "|           4 | -0.792699 | -0.822879 |         -0.798055 |  7.57394e-06 | 0.00535627  |\n",
            "+-------------+-----------+-----------+-------------------+--------------+-------------+\n",
            "|           5 | -0.798055 | -0.822879 |         -0.798158 |  2.77708e-09 | 0.000102787 |\n",
            "+-------------+-----------+-----------+-------------------+--------------+-------------+\n",
            "La raíz aproximada es: -0.79815796782289\n"
          ]
        }
      ]
    }
  ]
}