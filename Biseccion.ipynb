{
  "nbformat": 4,
  "nbformat_minor": 0,
  "metadata": {
    "colab": {
      "provenance": [],
      "authorship_tag": "ABX9TyN4kBH3QZSs3S17Pw/hs/WY",
      "include_colab_link": true
    },
    "kernelspec": {
      "name": "python3",
      "display_name": "Python 3"
    },
    "language_info": {
      "name": "python"
    }
  },
  "cells": [
    {
      "cell_type": "markdown",
      "metadata": {
        "id": "view-in-github",
        "colab_type": "text"
      },
      "source": [
        "<a href=\"https://colab.research.google.com/github/Elay-math/Metodos-Numericos-/blob/main/Biseccion.ipynb\" target=\"_parent\"><img src=\"https://colab.research.google.com/assets/colab-badge.svg\" alt=\"Open In Colab\"/></a>"
      ]
    },
    {
      "cell_type": "markdown",
      "source": [
        "Método de Bisección"
      ],
      "metadata": {
        "id": "ZJLkouh8B_6R"
      }
    },
    {
      "cell_type": "markdown",
      "source": [
        "El método de bisección es un algoritmo de métodos númericos que nos ayuda a aproximar raices de funciones, se basa en el teorema del valor intermedio y lo que busca es generar intervalos que acoten a la raíz de la función"
      ],
      "metadata": {
        "id": "8vQgV31sEfM7"
      }
    },
    {
      "cell_type": "code",
      "execution_count": 5,
      "metadata": {
        "id": "2eEgRXpEB-sq"
      },
      "outputs": [],
      "source": [
        "from tabulate import tabulate\n",
        "#definimos la función\n",
        "def f(x):\n",
        "  return x**3+4*x**2-10\n"
      ]
    },
    {
      "cell_type": "code",
      "source": [
        "def biseccion(a,b,tol=1e-4,max_iter=1000):\n",
        "  #Creamos la tabla que usaremos para guardar la información\n",
        "  tabla=[]\n",
        "  #contador\n",
        "  i=0\n",
        "  #definimos p anterior para usarlo en la columna de error\n",
        "  p_anterior = None\n",
        "  #el bucle principal es para tener donde parar\n",
        "  while i<max_iter:\n",
        "  #definimos el punto medio\n",
        "    p=a+((b-a)/2)\n",
        "  #evaluamos la función en el punto medio\n",
        "    fp=f(p)\n",
        "  #calculamos el error a partir de la primera iteracion\n",
        "    error= abs(p-p_anterior) if p_anterior is not None else None\n",
        "    tabla.append([i,a,b,p,f(p),error])\n",
        "    #si la raíz ya se alcanzó en el error deseado imprimimos la tabla\n",
        "    if abs(fp)<tol:\n",
        "      print(tabulate(tabla, headers=[\"Iteración\", \"a\", \"b\", \"p\", \"f(p)\", \"Error\"], tablefmt=\"grid\"))\n",
        "      return p\n",
        "    #Actualizamos los intervalos\n",
        "    if f(a)*fp <0:\n",
        "      b=p # la raíz está en el intervalo [a,p]\n",
        "    else:\n",
        "      a=p # la raiz está en el intevalo [p,b]\n",
        "      #movemos el pi-1\n",
        "    p_anterior=p\n",
        "    #siguiente iteración\n",
        "    i+=1\n",
        "\n",
        "raiz=biseccion(1,2)\n",
        "print(\"La raiz es:\",raiz)\n",
        "\n",
        "\n",
        "\n"
      ],
      "metadata": {
        "colab": {
          "base_uri": "https://localhost:8080/"
        },
        "id": "lB4U9dYDGEQV",
        "outputId": "c6003236-5847-4bb6-9787-3806a209663e"
      },
      "execution_count": 7,
      "outputs": [
        {
          "output_type": "stream",
          "name": "stdout",
          "text": [
            "+-------------+---------+---------+---------+--------------+-------------+\n",
            "|   Iteración |       a |       b |       p |         f(p) |       Error |\n",
            "+=============+=========+=========+=========+==============+=============+\n",
            "|           0 | 1       | 2       | 1.5     |  2.375       |             |\n",
            "+-------------+---------+---------+---------+--------------+-------------+\n",
            "|           1 | 1       | 1.5     | 1.25    | -1.79688     | 0.25        |\n",
            "+-------------+---------+---------+---------+--------------+-------------+\n",
            "|           2 | 1.25    | 1.5     | 1.375   |  0.162109    | 0.125       |\n",
            "+-------------+---------+---------+---------+--------------+-------------+\n",
            "|           3 | 1.25    | 1.375   | 1.3125  | -0.848389    | 0.0625      |\n",
            "+-------------+---------+---------+---------+--------------+-------------+\n",
            "|           4 | 1.3125  | 1.375   | 1.34375 | -0.350983    | 0.03125     |\n",
            "+-------------+---------+---------+---------+--------------+-------------+\n",
            "|           5 | 1.34375 | 1.375   | 1.35938 | -0.0964088   | 0.015625    |\n",
            "+-------------+---------+---------+---------+--------------+-------------+\n",
            "|           6 | 1.35938 | 1.375   | 1.36719 |  0.0323558   | 0.0078125   |\n",
            "+-------------+---------+---------+---------+--------------+-------------+\n",
            "|           7 | 1.35938 | 1.36719 | 1.36328 | -0.03215     | 0.00390625  |\n",
            "+-------------+---------+---------+---------+--------------+-------------+\n",
            "|           8 | 1.36328 | 1.36719 | 1.36523 |  7.20248e-05 | 0.00195312  |\n",
            "+-------------+---------+---------+---------+--------------+-------------+\n",
            "|           9 | 1.36328 | 1.36523 | 1.36426 | -0.0160467   | 0.000976562 |\n",
            "+-------------+---------+---------+---------+--------------+-------------+\n",
            "|          10 | 1.36426 | 1.36523 | 1.36475 | -0.00798926  | 0.000488281 |\n",
            "+-------------+---------+---------+---------+--------------+-------------+\n",
            "|          11 | 1.36475 | 1.36523 | 1.36499 | -0.0039591   | 0.000244141 |\n",
            "+-------------+---------+---------+---------+--------------+-------------+\n",
            "|          12 | 1.36499 | 1.36523 | 1.36511 | -0.00194366  | 0.00012207  |\n",
            "+-------------+---------+---------+---------+--------------+-------------+\n",
            "|          13 | 1.36511 | 1.36523 | 1.36517 | -0.000935847 | 6.10352e-05 |\n",
            "+-------------+---------+---------+---------+--------------+-------------+\n",
            "|          14 | 1.36517 | 1.36523 | 1.3652  | -0.000431919 | 3.05176e-05 |\n",
            "+-------------+---------+---------+---------+--------------+-------------+\n",
            "|          15 | 1.3652  | 1.36523 | 1.36522 | -0.000179949 | 1.52588e-05 |\n",
            "+-------------+---------+---------+---------+--------------+-------------+\n",
            "|          16 | 1.36522 | 1.36523 | 1.36523 | -5.39625e-05 | 7.62939e-06 |\n",
            "+-------------+---------+---------+---------+--------------+-------------+\n",
            "|          17 | 1.36523 | 1.36523 | 1.36523 |  9.03099e-06 | 3.8147e-06  |\n",
            "+-------------+---------+---------+---------+--------------+-------------+\n",
            "La raiz es: 1.3652305603027344\n"
          ]
        }
      ]
    }
  ]
}