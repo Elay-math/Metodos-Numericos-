{
  "nbformat": 4,
  "nbformat_minor": 0,
  "metadata": {
    "colab": {
      "provenance": [],
      "authorship_tag": "ABX9TyPqjWquvmN384yTFnb2Zc77",
      "include_colab_link": true
    },
    "kernelspec": {
      "name": "python3",
      "display_name": "Python 3"
    },
    "language_info": {
      "name": "python"
    }
  },
  "cells": [
    {
      "cell_type": "markdown",
      "metadata": {
        "id": "view-in-github",
        "colab_type": "text"
      },
      "source": [
        "<a href=\"https://colab.research.google.com/github/Elay-math/Metodos-Numericos-/blob/main/PuntoFijo.ipynb\" target=\"_parent\"><img src=\"https://colab.research.google.com/assets/colab-badge.svg\" alt=\"Open In Colab\"/></a>"
      ]
    },
    {
      "cell_type": "markdown",
      "source": [
        "Iteración de punto fijo"
      ],
      "metadata": {
        "id": "M2OUqeTmcYDp"
      }
    },
    {
      "cell_type": "code",
      "source": [
        "#Llamamos a las librerias que usaremos\n",
        "from tabulate import tabulate\n",
        "import math\n",
        "#definimos la función que usaremos\n",
        "def g(x):\n",
        "  return x-((x**3+4*x**2-10)/(3*x**2+8*x))\n",
        ""
      ],
      "metadata": {
        "id": "QC5DrlSugjnA"
      },
      "execution_count": 27,
      "outputs": []
    },
    {
      "cell_type": "code",
      "execution_count": 30,
      "metadata": {
        "id": "BrOBbUy7cXkT"
      },
      "outputs": [],
      "source": [
        "#los parametros que usaremos son la funcion y un punto inicial, la tolerancia y el maximo de iteraciones se definen ahora pero no se llaman al momento de ejecutar la función\n",
        "def PF(g,p0,tol=1e-4,maximun=1000):\n",
        "  i=0\n",
        "  results=[]\n",
        "  #agregamos la primera iteración que es la del punto inicial\n",
        "  results.append([i,p0])\n",
        "  #la condicion es hasta que se alcance el numero maximo de iteraciones\n",
        "  while i<maximun:\n",
        "    #se evalua la funcion en el punto inicial y este es el que se va a ir iterando\n",
        "    p=g(p0)\n",
        "    #agregamos las iteraciones y los puntow\n",
        "    results.append([i+1,p])\n",
        "    if abs(p-p0)<tol:\n",
        "      #imprimimos la tabla con el header cuando se cumpla la condicion  de tolerancia de error\n",
        "      print(tabulate(results,headers=[\"Iteracion\",\"p\"],tablefmt=\"grid\"))\n",
        "      #retornamos el valor de la aproximacion\n",
        "      return p\n",
        "      #actualizamos el punto fijo\n",
        "    p0=p\n",
        "    i+=1\n",
        "  print(\"Advertencia: no se alcanzó la tolerancia en el numero maximo de iteraciones\")\n",
        "  print(tabulate(results,headers=[\"Iteracion\",\"p\"],tablefmt=\"grid\"))\n",
        "  return p"
      ]
    },
    {
      "cell_type": "code",
      "source": [
        "resultado=(PF(g,1.5))\n",
        "print(resultado)"
      ],
      "metadata": {
        "colab": {
          "base_uri": "https://localhost:8080/"
        },
        "id": "EwQUf8gwg8HI",
        "outputId": "1f0d6f6c-bf18-4bfe-9cbd-2121f99a5963"
      },
      "execution_count": 32,
      "outputs": [
        {
          "output_type": "stream",
          "name": "stdout",
          "text": [
            "+-------------+---------+\n",
            "|   Iteracion |       p |\n",
            "+=============+=========+\n",
            "|           0 | 1.5     |\n",
            "+-------------+---------+\n",
            "|           1 | 1.37333 |\n",
            "+-------------+---------+\n",
            "|           2 | 1.36526 |\n",
            "+-------------+---------+\n",
            "|           3 | 1.36523 |\n",
            "+-------------+---------+\n",
            "1.3652300139161466\n"
          ]
        }
      ]
    }
  ]
}