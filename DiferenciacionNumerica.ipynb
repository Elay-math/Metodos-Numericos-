{
  "nbformat": 4,
  "nbformat_minor": 0,
  "metadata": {
    "colab": {
      "provenance": [],
      "authorship_tag": "ABX9TyO36XgsHxfIRebipPccktD7",
      "include_colab_link": true
    },
    "kernelspec": {
      "name": "python3",
      "display_name": "Python 3"
    },
    "language_info": {
      "name": "python"
    }
  },
  "cells": [
    {
      "cell_type": "markdown",
      "metadata": {
        "id": "view-in-github",
        "colab_type": "text"
      },
      "source": [
        "<a href=\"https://colab.research.google.com/github/Elay-math/Metodos-Numericos-/blob/main/DiferenciacionNumerica.ipynb\" target=\"_parent\"><img src=\"https://colab.research.google.com/assets/colab-badge.svg\" alt=\"Open In Colab\"/></a>"
      ]
    },
    {
      "cell_type": "markdown",
      "source": [
        "Se generarán las formulas para calcular derivadas numéricamente"
      ],
      "metadata": {
        "id": "xssa875LEBeF"
      }
    },
    {
      "cell_type": "code",
      "source": [
        "import numpy as np\n",
        "\n",
        "# Datos\n",
        "datos = {\n",
        "    1.8: 10.889365,\n",
        "    1.9: 12.703199,\n",
        "    2.0: 14.778112,\n",
        "    2.1: 17.148957,\n",
        "    2.2: 19.855030\n",
        "}\n",
        "\n",
        "# Fórmulas numéricas\n",
        "def extremo_tres_puntos(fx0, fx1, fx2, h):\n",
        "    return (-3*fx0 + 4*fx1 - fx2) / (2*h)\n",
        "\n",
        "def punto_medio_tres_puntos(fxm1, fxp1, h):\n",
        "    return (fxp1 - fxm1) / (2*h)\n",
        "\n",
        "def punto_medio_cinco_puntos(fm2, fm1, fp1, fp2, h):\n",
        "    return (fm2 - 8*fm1 + 8*fp1 - fp2) / (12*h)\n",
        "\n",
        "def extremo_cinco_puntos(f0, f1, f2, f3, f4, h):\n",
        "    return (-25*f0 + 48*f1 - 36*f2 + 16*f3 - 3*f4) / (12*h)\n",
        "\n",
        "def segunda_derivada(fm1, f0, fp1, h):\n",
        "    return (fm1 - 2*f0 + fp1) / (h**2)\n",
        "\n",
        "# Evaluaciones\n",
        "h = 0.1\n",
        "print(\"\\nResultados:\")\n",
        "\n",
        "print(\"Extremo de tres puntos (h=0.1):\", extremo_tres_puntos(\n",
        "    datos[2.0], datos[2.1], datos[2.2], h\n",
        "))\n",
        "\n",
        "print(\"Punto medio de tres puntos (h=0.1):\", punto_medio_tres_puntos(\n",
        "    datos[1.9], datos[2.1], h\n",
        "))\n",
        "\n",
        "print(\"Punto medio de cinco puntos (h=0.1):\", punto_medio_cinco_puntos(\n",
        "    datos[1.8], datos[1.9], datos[2.1], datos[2.2], h\n",
        "))\n",
        "\n",
        "print(\"Segunda derivada (h=0.1):\", segunda_derivada(\n",
        "    datos[1.9], datos[2.0], datos[2.1], h\n",
        "))\n"
      ],
      "metadata": {
        "colab": {
          "base_uri": "https://localhost:8080/"
        },
        "id": "K_fHSzdMPvfA",
        "outputId": "83d02f9f-01a8-4de8-9c37-02edec172088"
      },
      "execution_count": 11,
      "outputs": [
        {
          "output_type": "stream",
          "name": "stdout",
          "text": [
            "\n",
            "Resultados:\n",
            "Extremo de tres puntos (h=0.1): 22.03230999999999\n",
            "Punto medio de tres puntos (h=0.1): 22.228789999999996\n",
            "Punto medio de cinco puntos (h=0.1): 22.16699916666666\n",
            "Segunda derivada (h=0.1): 29.59319999999969\n"
          ]
        }
      ]
    }
  ]
}