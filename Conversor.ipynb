{
  "nbformat": 4,
  "nbformat_minor": 0,
  "metadata": {
    "colab": {
      "provenance": [],
      "authorship_tag": "ABX9TyMV+Xe5wiv9XGGQQAJs+L08",
      "include_colab_link": true
    },
    "kernelspec": {
      "name": "python3",
      "display_name": "Python 3"
    },
    "language_info": {
      "name": "python"
    }
  },
  "cells": [
    {
      "cell_type": "markdown",
      "metadata": {
        "id": "view-in-github",
        "colab_type": "text"
      },
      "source": [
        "<a href=\"https://colab.research.google.com/github/Elay-math/Metodos-Numericos-/blob/main/Conversor.ipynb\" target=\"_parent\"><img src=\"https://colab.research.google.com/assets/colab-badge.svg\" alt=\"Open In Colab\"/></a>"
      ]
    },
    {
      "cell_type": "markdown",
      "source": [
        "Elias Custodio Wong"
      ],
      "metadata": {
        "id": "xbZERQIN3sAg"
      }
    },
    {
      "cell_type": "markdown",
      "source": [
        "$Funcion$ $de$ $convercion$ $de$ $decimal$ $a$ $binario$"
      ],
      "metadata": {
        "id": "BdyupDLeO5Nv"
      }
    },
    {
      "cell_type": "markdown",
      "source": [
        "Definimos la función binary(a), para convertir cualquier entero positivo a su forma binaria, creamos una lista vacía llamada \"string\" para añadir los residuos de la division entre a y 2, el numero b serán los residuos de esa división y serán los elementos que se guardaran en la lista, a será modificado en cada iteración del ciclo para convertirse en los factores, así cuando el factor llegue a 0 el ciclo se romperá, por ultimo para fines estéticos convertiremos la lista a una cadena para que se imprima como un número binario"
      ],
      "metadata": {
        "id": "hDlF9J-MXB8v"
      }
    },
    {
      "cell_type": "code",
      "execution_count": null,
      "metadata": {
        "id": "7SdU-Q5mO4PK"
      },
      "outputs": [],
      "source": [
        "def binary(a):\n",
        "  if a==0:\n",
        "    return \"0\"\n",
        "  string=[]\n",
        "  while(a!=0):\n",
        "    b=a%2\n",
        "    a//=2\n",
        "    string.insert(0,b)\n",
        "  num=\"\".join(map(str,string))\n",
        "  return num"
      ]
    },
    {
      "cell_type": "markdown",
      "source": [
        "La función bin(a) nos retorna el número a en su forma binaria, la compararemos con nuestra función"
      ],
      "metadata": {
        "id": "reCqD_XUWdVA"
      }
    },
    {
      "cell_type": "code",
      "source": [
        "print(binary(567))\n",
        "print(bin(567))"
      ],
      "metadata": {
        "colab": {
          "base_uri": "https://localhost:8080/"
        },
        "id": "ivRPoe8nXJbf",
        "outputId": "0a66db36-fa3c-487f-d4aa-b109017cf44d"
      },
      "execution_count": null,
      "outputs": [
        {
          "output_type": "stream",
          "name": "stdout",
          "text": [
            "1000110111\n",
            "0b1000110111\n"
          ]
        }
      ]
    },
    {
      "cell_type": "markdown",
      "source": [
        "$Funcion$ $para$ $numeros$ $racionales$"
      ],
      "metadata": {
        "id": "bnNCq3L4ce0k"
      }
    },
    {
      "cell_type": "markdown",
      "source": [
        "Esta función solo convierte correctamente numeros decimales con parte entera 0 y  solo nos devolverá la parte decimal del número binario, pero nos servirá para la siguiente función"
      ],
      "metadata": {
        "id": "38CCflSF0h_l"
      }
    },
    {
      "cell_type": "code",
      "source": [
        "\n",
        "def binQ(q):\n",
        "  decimal=\"\"\n",
        "  #la condión del while es q!=0 para que el bucle se detenga cuando el algoritmo llegue al factor 0, la condición del decimal es para que no obtengamos decimales infinitos y no se atasque el programa\n",
        "  while (q!=0 and len(decimal)<10):\n",
        "    q=q*2\n",
        "    #tomamos la parte entera\n",
        "    p=int(q)\n",
        "    #concatenamos el valor de p como una cadena\n",
        "    decimal+=str(p)\n",
        "    #actualizamos el valor q para no entrar en bucles\n",
        "    q-=p\n",
        "\n",
        "  return decimal\n",
        "\n",
        "print(binQ(0.125))"
      ],
      "metadata": {
        "colab": {
          "base_uri": "https://localhost:8080/"
        },
        "id": "llNcFByvcuzE",
        "outputId": "84ee2979-1303-4a84-b253-bceff275a95e"
      },
      "execution_count": null,
      "outputs": [
        {
          "output_type": "stream",
          "name": "stdout",
          "text": [
            "001\n"
          ]
        }
      ]
    },
    {
      "cell_type": "markdown",
      "source": [
        "En lo que sigue las primeras dos funciones son las explicadas anteriormente y solo nos importará la última función que es la que podrá convertir cualquier racional Q de forma decimal a forma binaria"
      ],
      "metadata": {
        "id": "_iGGrFeH1kPP"
      }
    },
    {
      "cell_type": "code",
      "source": [
        "\n",
        "def binary(a):\n",
        "  if a==0:\n",
        "    return \"0\"\n",
        "  string=[]\n",
        "  while(a!=0):\n",
        "    b=a%2\n",
        "    a//=2\n",
        "    string.insert(0,b)\n",
        "  num=\"\".join(map(str,string))\n",
        "  return num\n",
        "\n",
        "def binQ(q):\n",
        "  decimal=\"\"\n",
        "  while (q!=0 and len(decimal)<10):\n",
        "    q=q*2\n",
        "    p=int(q)\n",
        "    decimal+=str(p)\n",
        "    q-=p\n",
        "\n",
        "  return decimal\n",
        "#La función toma por entrada un numero racional en forma decimal y lo retornará en forma binaria\n",
        "def BinaryC(rational):\n",
        "  #tomamos la parte entera del número\n",
        "  integer=int(rational)\n",
        "  #obtenemos la parte decimal restando la parte entera del número original\n",
        "  decimal=rational-integer\n",
        "  #usaremos la función binary para convertir solo la parte entera del número\n",
        "  bin_integer=binary(integer)\n",
        "  #usaremos la función binQ para convertir solo la parte decimal del número, esto funciona ya que el número ingresado tiene parte entera 0 por la resta que se hizo anteriormente\n",
        "  bin_decimal=binQ(decimal)\n",
        "  #si el número tiene parte decimal la concatenaremos para formar el número, si no solo retornamos el número entero\n",
        "  if bin_decimal:\n",
        "    return bin_integer+\".\"+bin_decimal\n",
        "  else:\n",
        "    return bin_integer\n",
        "\n",
        "print(BinaryC(2))\n",
        "print(BinaryC(12.3))\n"
      ],
      "metadata": {
        "colab": {
          "base_uri": "https://localhost:8080/"
        },
        "id": "AighIbaxvLY6",
        "outputId": "1a7ba113-c735-430e-b067-4394dc05d9ab"
      },
      "execution_count": null,
      "outputs": [
        {
          "output_type": "stream",
          "name": "stdout",
          "text": [
            "10\n",
            "1100.0100110011\n"
          ]
        }
      ]
    },
    {
      "cell_type": "markdown",
      "source": [
        "$Funcion$ $Octal$"
      ],
      "metadata": {
        "id": "6gogRv_M3z9n"
      }
    },
    {
      "cell_type": "markdown",
      "source": [
        "La conversión en octal sigue el mismo algoritmo que la conversión en binario, por lo tanto el codigo es el mismo a exepción de que se usa modulo 8 y se recupera la parte entera de dividir entre 8"
      ],
      "metadata": {
        "id": "Cm8Q5pnl4gBP"
      }
    },
    {
      "cell_type": "code",
      "source": [
        "def octal(a):\n",
        "  if a==0:\n",
        "    return \"0\"\n",
        "  string=[]\n",
        "  while(a!=0):\n",
        "    b=a%8\n",
        "    a//=8\n",
        "    string.insert(0,b)\n",
        "  num=\"\".join(map(str,string))\n",
        "  return num\n",
        "print(octal(10))"
      ],
      "metadata": {
        "colab": {
          "base_uri": "https://localhost:8080/"
        },
        "id": "9_NFc1rI37GY",
        "outputId": "33c66771-db88-4ae6-ee24-e8b12d2f3553"
      },
      "execution_count": null,
      "outputs": [
        {
          "output_type": "stream",
          "name": "stdout",
          "text": [
            "12\n"
          ]
        }
      ]
    }
  ]
}