{
  "nbformat": 4,
  "nbformat_minor": 0,
  "metadata": {
    "colab": {
      "provenance": [],
      "authorship_tag": "ABX9TyNhkao5eBgAOxxFsIlMhuXO",
      "include_colab_link": true
    },
    "kernelspec": {
      "name": "python3",
      "display_name": "Python 3"
    },
    "language_info": {
      "name": "python"
    }
  },
  "cells": [
    {
      "cell_type": "markdown",
      "metadata": {
        "id": "view-in-github",
        "colab_type": "text"
      },
      "source": [
        "<a href=\"https://colab.research.google.com/github/Elay-math/Metodos-Numericos-/blob/main/Neville.ipynb\" target=\"_parent\"><img src=\"https://colab.research.google.com/assets/colab-badge.svg\" alt=\"Open In Colab\"/></a>"
      ]
    },
    {
      "cell_type": "markdown",
      "source": [
        "Polinomio de Neville"
      ],
      "metadata": {
        "id": "XF-vO9sxWXdT"
      }
    },
    {
      "cell_type": "markdown",
      "source": [
        "Se construye un polinomio interpolante de forma recursiva"
      ],
      "metadata": {
        "id": "5qcFsEJWWRjf"
      }
    },
    {
      "cell_type": "code",
      "execution_count": 1,
      "metadata": {
        "colab": {
          "base_uri": "https://localhost:8080/"
        },
        "id": "oyIggnqpVt8H",
        "outputId": "f899a2f8-fe29-4ed3-f061-d2595821be43"
      },
      "outputs": [
        {
          "output_type": "stream",
          "name": "stdout",
          "text": [
            "+----------+----------+----------+----------+---------+\n",
            "| 0.765198 | 0        | 0        | 0        | 0       |\n",
            "+----------+----------+----------+----------+---------+\n",
            "| 0.620086 | 0.523345 | 0        | 0        | 0       |\n",
            "+----------+----------+----------+----------+---------+\n",
            "| 0.455402 | 0.510297 | 0.512471 | 0        | 0       |\n",
            "+----------+----------+----------+----------+---------+\n",
            "| 0.281819 | 0.513263 | 0.511286 | 0.511813 | 0       |\n",
            "+----------+----------+----------+----------+---------+\n",
            "| 0.110362 | 0.510427 | 0.513736 | 0.51183  | 0.51182 |\n",
            "+----------+----------+----------+----------+---------+\n"
          ]
        }
      ],
      "source": [
        "from tabulate import tabulate\n",
        "\n",
        "def interpolacion_neville(punto_objetivo, puntos_x, valores_fx):\n",
        "    cantidad = len(puntos_x)\n",
        "\n",
        "    # Inicializamos una matriz triangular inferior con ceros\n",
        "    matriz_Q = [[0.0 for _ in range(cantidad)] for _ in range(cantidad)]\n",
        "\n",
        "    # Llenamos la primera columna con los valores de la función evaluada\n",
        "    for fila in range(cantidad):\n",
        "        matriz_Q[fila][0] = valores_fx[fila]\n",
        "\n",
        "    # Aplicamos el algoritmo de Neville\n",
        "    for i in range(1, cantidad):\n",
        "        for j in range(1, i + 1):\n",
        "            x_j = puntos_x[i - j]\n",
        "            x_i = puntos_x[i]\n",
        "            numerador = (punto_objetivo - x_j) * matriz_Q[i][j - 1] - (punto_objetivo - x_i) * matriz_Q[i - 1][j - 1]\n",
        "            denominador = x_i - x_j\n",
        "            matriz_Q[i][j] = numerador / denominador\n",
        "\n",
        "    # Mostramos la tabla con formato\n",
        "    print(tabulate(matriz_Q, tablefmt=\"grid\"))\n",
        "\n",
        "# Datos de ejemplo\n",
        "puntos = [1, 1.3, 1.6, 1.9, 2.2]\n",
        "valores = [0.7651977, 0.6200860, 0.4554022, 0.2818186, 0.1103623]\n",
        "evaluar_en = 1.5\n",
        "\n",
        "interpolacion_neville(evaluar_en, puntos, valores)\n"
      ]
    }
  ]
}