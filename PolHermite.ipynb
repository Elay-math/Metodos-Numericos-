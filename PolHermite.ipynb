{
  "nbformat": 4,
  "nbformat_minor": 0,
  "metadata": {
    "colab": {
      "provenance": [],
      "authorship_tag": "ABX9TyOUmujH+xJv9FhIY02CppxH",
      "include_colab_link": true
    },
    "kernelspec": {
      "name": "python3",
      "display_name": "Python 3"
    },
    "language_info": {
      "name": "python"
    }
  },
  "cells": [
    {
      "cell_type": "markdown",
      "metadata": {
        "id": "view-in-github",
        "colab_type": "text"
      },
      "source": [
        "<a href=\"https://colab.research.google.com/github/Elay-math/Metodos-Numericos-/blob/main/PolHermite.ipynb\" target=\"_parent\"><img src=\"https://colab.research.google.com/assets/colab-badge.svg\" alt=\"Open In Colab\"/></a>"
      ]
    },
    {
      "cell_type": "markdown",
      "source": [
        "Polinomio de Hermite"
      ],
      "metadata": {
        "id": "srzQ5rH2YLa9"
      }
    },
    {
      "cell_type": "code",
      "execution_count": 1,
      "metadata": {
        "colab": {
          "base_uri": "https://localhost:8080/"
        },
        "id": "qi-XWCtEX7RY",
        "outputId": "9ea143ce-e675-45ea-fc75-08da6e3fa406"
      },
      "outputs": [
        {
          "output_type": "stream",
          "name": "stdout",
          "text": [
            "Tabla de diferencias divididas de Hermite:\n",
            "+----------+-----------+-------------+-----------+------------+-------------+\n",
            "| 0.620086 |  0        |  0          | 0         | 0          |  0          |\n",
            "+----------+-----------+-------------+-----------+------------+-------------+\n",
            "| 0.620086 | -0.522023 |  0          | 0         | 0          |  0          |\n",
            "+----------+-----------+-------------+-----------+------------+-------------+\n",
            "| 0.455402 | -0.548946 | -0.0897427  | 0         | 0          |  0          |\n",
            "+----------+-----------+-------------+-----------+------------+-------------+\n",
            "| 0.455402 | -0.569896 | -0.069833   | 0.0663656 | 0          |  0          |\n",
            "+----------+-----------+-------------+-----------+------------+-------------+\n",
            "| 0.281819 | -0.578612 | -0.0290537  | 0.0679656 | 0.00266667 |  0          |\n",
            "+----------+-----------+-------------+-----------+------------+-------------+\n",
            "| 0.281819 | -0.581157 | -0.00848367 | 0.0685667 | 0.00100185 | -0.00277469 |\n",
            "+----------+-----------+-------------+-----------+------------+-------------+\n",
            "\n",
            "Coeficientes del polinomio de Hermite:\n",
            "coef[0] = 0.620086\n",
            "coef[1] = -0.5220232\n",
            "coef[2] = -0.08974266666666673\n",
            "coef[3] = 0.06636555555555616\n",
            "coef[4] = 0.002666666666662164\n",
            "coef[5] = -0.0027746913579894407\n"
          ]
        }
      ],
      "source": [
        "import numpy as np\n",
        "from tabulate import tabulate\n",
        "\n",
        "def interpolacion_hermite(nodos, valores, derivadas):\n",
        "    cantidad = len(nodos)\n",
        "    tamaño = 2 * cantidad\n",
        "\n",
        "    # Inicialización de nodos extendidos y tabla de diferencias divididas\n",
        "    nodos_ext = [0.0] * tamaño\n",
        "    tabla = [[0.0] * tamaño for _ in range(tamaño)]\n",
        "\n",
        "    # Carga de valores iniciales en la tabla y nodos duplicados\n",
        "    for k in range(cantidad):\n",
        "        idx = 2 * k\n",
        "        nodos_ext[idx] = nodos[k]\n",
        "        nodos_ext[idx + 1] = nodos[k]\n",
        "\n",
        "        tabla[idx][0] = valores[k]\n",
        "        tabla[idx + 1][0] = valores[k]\n",
        "        tabla[idx + 1][1] = derivadas[k]\n",
        "\n",
        "        if k > 0:\n",
        "            x_actual = nodos_ext[idx]\n",
        "            x_anterior = nodos_ext[idx - 1]\n",
        "            numerador = tabla[idx][0] - tabla[idx - 1][0]\n",
        "            denominador = x_actual - x_anterior\n",
        "            tabla[idx][1] = numerador / denominador\n",
        "\n",
        "    # Cálculo de diferencias divididas para columnas superiores\n",
        "    for fila in range(2, tamaño):\n",
        "        for col in range(2, fila + 1):\n",
        "            xi = nodos_ext[fila]\n",
        "            xj = nodos_ext[fila - col]\n",
        "            numerador = tabla[fila][col - 1] - tabla[fila - 1][col - 1]\n",
        "            denominador = xi - xj\n",
        "            tabla[fila][col] = numerador / denominador\n",
        "\n",
        "    # Mostrar la tabla generada\n",
        "    print(\"Tabla de diferencias divididas de Hermite:\")\n",
        "    print(tabulate(tabla, tablefmt=\"grid\"))\n",
        "\n",
        "    # Extraer y mostrar los coeficientes del polinomio de Hermite\n",
        "    coef_hermite = [tabla[i][i] for i in range(tamaño)]\n",
        "    print(\"\\nCoeficientes del polinomio de Hermite:\")\n",
        "    for i, coef in enumerate(coef_hermite):\n",
        "        print(f\"coef[{i}] = {coef}\")\n",
        "\n",
        "    return coef_hermite\n",
        "\n",
        "\n",
        "# Datos de entrada\n",
        "x_vals = [1.3, 1.6, 1.9]\n",
        "f_vals = [0.6200860, 0.4554022, 0.2818186]\n",
        "f_derivs = [-0.5220232, -0.5698959, -0.5811571]\n",
        "\n",
        "# Llamada a la función\n",
        "coeficientes = interpolacion_hermite(x_vals, f_vals, f_derivs)\n"
      ]
    }
  ]
}